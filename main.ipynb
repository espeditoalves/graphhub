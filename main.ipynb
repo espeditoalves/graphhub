{
 "cells": [
  {
   "cell_type": "markdown",
   "metadata": {},
   "source": [
    "# Criando um gráfico dinâmico em Python"
   ]
  },
  {
   "cell_type": "markdown",
   "metadata": {},
   "source": [
    "##### Exemplo de grafico Dinâmico\n",
    "![Imagem do gráfico](https://www.dexplo.org/bar_chart_race/images/covid19_horiz.gif)"
   ]
  },
  {
   "cell_type": "markdown",
   "metadata": {},
   "source": [
    "## Importando e ajustando a base no pandas"
   ]
  },
  {
   "cell_type": "code",
   "execution_count": null,
   "metadata": {},
   "outputs": [],
   "source": [
    "import pandas as pd\n",
    "\n",
    "# import local\n",
    "from utils.graphhub import graph"
   ]
  },
  {
   "cell_type": "code",
   "execution_count": null,
   "metadata": {},
   "outputs": [],
   "source": [
    "base = pd.read_excel(\"Base\\BarChartRace.xlsx\")\n",
    "base.head()"
   ]
  },
  {
   "cell_type": "code",
   "execution_count": null,
   "metadata": {},
   "outputs": [],
   "source": [
    "base.shape"
   ]
  },
  {
   "cell_type": "code",
   "execution_count": null,
   "metadata": {},
   "outputs": [],
   "source": [
    "base = base.pivot_table('Venda','Data','Categoria')\n",
    "base.head()"
   ]
  },
  {
   "cell_type": "markdown",
   "metadata": {},
   "source": [
    "## Usando o BarChartRace\n",
    "- https://pypi.org/project/bar-chart-race/"
   ]
  },
  {
   "cell_type": "markdown",
   "metadata": {},
   "source": [
    "### Usando o grafico para a nossa base"
   ]
  },
  {
   "cell_type": "code",
   "execution_count": null,
   "metadata": {},
   "outputs": [],
   "source": [
    "# Exemplo de uso:\n",
    "grafico_dinamico(df=base, titulo_sumarizacao='Total de Venda', titulo_grafico='Vendas por Categoria', filename='teste.mp4')"
   ]
  },
  {
   "cell_type": "markdown",
   "metadata": {},
   "source": [
    "### Caso apresente erro:\n",
    "**Resolvendo o erro**\n",
    "- Vá até https://www.ffmpeg.org/download.html\n",
    "- Selecione o seu sistema operacional (no meu caso eu selecionei Windows) e clique em \"Windows builds from BtbN\"\n",
    "- Procure pelo arquivo zip, faça a extração (renomeie caso necessário) e copie para a pasta do seu sistema operacional (C:)\n",
    "- Vá até a pasta \"bin\" e adicione nas variáveis de ambiente\n",
    "    - System Properties > Environment Variables\n",
    "    - Adicione clicando em \"New\"e então em OK\n",
    "- Verifique se a instalação foi feita usando \"ffmpeg -version\""
   ]
  }
 ],
 "metadata": {
  "kernelspec": {
   "display_name": ".venv",
   "language": "python",
   "name": "python3"
  },
  "language_info": {
   "name": "python",
   "version": "3.11.4"
  }
 },
 "nbformat": 4,
 "nbformat_minor": 2
}
